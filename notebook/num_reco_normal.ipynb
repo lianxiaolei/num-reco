{
 "cells": [
  {
   "cell_type": "code",
   "execution_count": 24,
   "metadata": {},
   "outputs": [],
   "source": [
    "import cv2\n",
    "from keras.callbacks import *\n",
    "from keras.layers import *\n",
    "from keras.models import *\n",
    "from keras.preprocessing import image\n",
    "import numpy as np\n",
    "from keras.applications.vgg16 import VGG16\n",
    "from keras.applications.resnet50 import ResNet50\n",
    "from keras.applications.inception_v3 import InceptionV3\n",
    "from keras.utils import to_categorical\n",
    "import sys\n",
    "from tqdm import tqdm\n",
    "from sklearn.model_selection import train_test_split\n",
    "import matplotlib.pyplot as plt"
   ]
  },
  {
   "cell_type": "code",
   "execution_count": 25,
   "metadata": {},
   "outputs": [],
   "source": [
    "def read_img(file_name, color_inv_norm=True):\n",
    "    \"\"\"\n",
    "    read a image from local file system\n",
    "    :param file_name:\n",
    "    :param color_inv_norm:\n",
    "    :return:\n",
    "    \"\"\"\n",
    "    img = cv2.imread(file_name, cv2.IMREAD_GRAYSCALE)\n",
    "\n",
    "    if color_inv_norm:\n",
    "        img = 255 - img\n",
    "\n",
    "        # img = remove_back(img, np.ones((5, 5), np.uint8))\n",
    "\n",
    "        img = img / 255.0\n",
    "    else:\n",
    "        img[img < 50] = 0\n",
    "        img = img / 255.0\n",
    "\n",
    "    return img"
   ]
  },
  {
   "cell_type": "code",
   "execution_count": 26,
   "metadata": {},
   "outputs": [],
   "source": [
    "def get_data(base_path):\n",
    "    \"\"\"\n",
    "\n",
    "    :param base_path:\n",
    "    :return:\n",
    "    \"\"\"\n",
    "    nums = os.listdir(base_path)\n",
    "    train_data = []\n",
    "    train_label = []\n",
    "    lbl = [[1, 0, 0, 0, 0, 0, 0, 0, 0, 0],\n",
    "           [0, 1, 0, 0, 0, 0, 0, 0, 0, 0],\n",
    "           [0, 0, 1, 0, 0, 0, 0, 0, 0, 0],\n",
    "           [0, 0, 0, 1, 0, 0, 0, 0, 0, 0],\n",
    "           [0, 0, 0, 0, 1, 0, 0, 0, 0, 0],\n",
    "           [0, 0, 0, 0, 0, 1, 0, 0, 0, 0],\n",
    "           [0, 0, 0, 0, 0, 0, 1, 0, 0, 0],\n",
    "           [0, 0, 0, 0, 0, 0, 0, 1, 0, 0],\n",
    "           [0, 0, 0, 0, 0, 0, 0, 0, 1, 0],\n",
    "           [0, 0, 0, 0, 0, 0, 0, 0, 0, 1]]\n",
    "    for num in tqdm(nums):\n",
    "        calc = 0\n",
    "        jpgs = os.listdir(os.path.join(base_path, num))\n",
    "#         print('-' * 30, 'now load %s' % num, '-' * 30)\n",
    "        for jpg in jpgs:\n",
    "            # calc += 1\n",
    "            # if calc > 5000:\n",
    "            #     print('the %s data is more than 5000' % num)\n",
    "                # break\n",
    "\n",
    "            fname = os.path.join(base_path, num, jpg)\n",
    "            pic = read_img(fname, color_inv_norm=False)\n",
    "            train_data.append(pic)\n",
    "            train_label.append(lbl[int(num)])\n",
    "\n",
    "    train_data = np.array(train_data)\n",
    "    train_label = np.array(train_label)\n",
    "    # print(train_data.shape, train_label.shape)\n",
    "    # print(train_data)\n",
    "    # print(np.argmax(train_label, axis=1))\n",
    "    return train_data, train_label"
   ]
  },
  {
   "cell_type": "code",
   "execution_count": 27,
   "metadata": {},
   "outputs": [
    {
     "name": "stderr",
     "output_type": "stream",
     "text": [
      "100%|████████████████████████████████████████████████████████████████████████████████| 10/10 [00:22<00:00,  2.28s/it]\n"
     ]
    },
    {
     "data": {
      "text/plain": [
       "((48735, 48, 48), (48735, 10))"
      ]
     },
     "execution_count": 27,
     "metadata": {},
     "output_type": "execute_result"
    }
   ],
   "source": [
    "X, y = get_data('f:/num_ocr')\n",
    "X.shape, y.shape"
   ]
  },
  {
   "cell_type": "code",
   "execution_count": 28,
   "metadata": {},
   "outputs": [
    {
     "data": {
      "text/plain": [
       "((41424, 48, 48, 1), (41424, 10))"
      ]
     },
     "execution_count": 28,
     "metadata": {},
     "output_type": "execute_result"
    }
   ],
   "source": [
    "X_train, X_test, y_train, y_test = train_test_split(X, y, test_size=0.15)\n",
    "X_train = np.expand_dims(X_train, axis=-1)\n",
    "X_test = np.expand_dims(X_test, axis=-1)\n",
    "X_train.shape, y_train.shape"
   ]
  },
  {
   "cell_type": "markdown",
   "metadata": {},
   "source": [
    "# Model"
   ]
  },
  {
   "cell_type": "code",
   "execution_count": 12,
   "metadata": {},
   "outputs": [],
   "source": [
    "num_class = 10\n",
    "input_tensor = Input((48, 48, 1))"
   ]
  },
  {
   "cell_type": "code",
   "execution_count": 13,
   "metadata": {},
   "outputs": [],
   "source": [
    "def vgg(input_tensor):\n",
    "    vgg = VGG16(include_top=False, input_tensor=input_tensor)\n",
    "    return vgg"
   ]
  },
  {
   "cell_type": "code",
   "execution_count": 14,
   "metadata": {},
   "outputs": [],
   "source": [
    "# def resnet_pretrain(input_tensor):\n",
    "#     rn = ResNet50(include_top=False, input_tensor=input_tensor)\n",
    "#     return rn\n",
    "\n",
    "def resnet(input_tensor, units=32, kernel_size=(3, 3)):\n",
    "    x = input_tensor\n",
    "    for i in range(2):\n",
    "        x  =res_block(x, (2 ** i) * units, kernel_size=kernel_size)\n",
    "    return x"
   ]
  },
  {
   "cell_type": "code",
   "execution_count": 15,
   "metadata": {},
   "outputs": [],
   "source": [
    "def conv2d_bn(x, units, kernel_size, strides=(1, 1), padding='same', name=None):\n",
    "    if name is not None:\n",
    "        bn_name = name + '_bn'\n",
    "        conv_name = name + '_conv'\n",
    "    else:\n",
    "        bn_name = None\n",
    "        conv_name = None\n",
    "\n",
    "    x = Conv2D(units, kernel_size, padding=padding, strides=strides, activation='relu', name=conv_name)(x)\n",
    "    x = BatchNormalization(axis=3, name=bn_name)(x)\n",
    "    return x"
   ]
  },
  {
   "cell_type": "code",
   "execution_count": 16,
   "metadata": {},
   "outputs": [],
   "source": [
    "def res_block(inpt, units, kernel_size, strides=(1, 1), with_conv_shortcut=True):\n",
    "    x = conv2d_bn(inpt, units=units, kernel_size=kernel_size, strides=strides, padding='same')\n",
    "    x = conv2d_bn(x, units=units, kernel_size=kernel_size, padding='same')\n",
    "    if with_conv_shortcut:\n",
    "        shortcut = conv2d_bn(inpt, units=units, strides=strides, kernel_size=kernel_size)\n",
    "        x = add([x, shortcut])\n",
    "        return x\n",
    "    else:\n",
    "        x = add([x, inpt])\n",
    "        return x"
   ]
  },
  {
   "cell_type": "code",
   "execution_count": 17,
   "metadata": {},
   "outputs": [],
   "source": [
    "def ordinary(x, ite=2):\n",
    "    for i in range(ite):\n",
    "        x = Conv2D(32 * 2 ** i, (3, 3), kernel_initializer='he_normal')(x)\n",
    "        x = BatchNormalization()(x)\n",
    "        x = Activation('relu')(x)\n",
    "        x = Conv2D(32 * 2 ** 2, (3, 3), kernel_initializer='he_normal')(x)\n",
    "        x = BatchNormalization()(x)\n",
    "        x = Activation('relu')(x)\n",
    "        x = MaxPool2D(pool_size=(2, 2))(x)\n",
    "    return x"
   ]
  },
  {
   "cell_type": "code",
   "execution_count": 90,
   "metadata": {},
   "outputs": [
    {
     "name": "stderr",
     "output_type": "stream",
     "text": [
      "/home/lian19931201/anaconda2/lib/python2.7/site-packages/ipykernel_launcher.py:12: UserWarning: Update your `Model` call to the Keras 2 API: `Model(outputs=Tensor(\"de..., inputs=Tensor(\"in...)`\n",
      "  if sys.path[0] == '':\n"
     ]
    }
   ],
   "source": [
    "# x = ordinary(input_tensor)\n",
    "x = resnet(input_tensor, units=32, kernel_size=(3,3))\n",
    "\n",
    "x = Flatten()(x)\n",
    "x = Dense(128, kernel_initializer='he_normal')(x)\n",
    "x = BatchNormalization()(x)\n",
    "x = Activation('relu')(x)\n",
    "x = Dropout(0.25)(x)\n",
    "x = Dense(10, kernel_initializer='he_normal', activation='softmax')(x)\n",
    "# print('now x\\'s shape:', x.shape)\n",
    "\n",
    "base_model = Model(input=input_tensor, output=x)\n",
    "modellabels = Input(name='labels', shape=[num_class], dtype='float32')\n",
    "model = Model(inputs=input_tensor, outputs=x)"
   ]
  },
  {
   "cell_type": "code",
   "execution_count": 91,
   "metadata": {},
   "outputs": [],
   "source": [
    "model.compile(loss='mean_squared_error', optimizer='adam')"
   ]
  },
  {
   "cell_type": "code",
   "execution_count": 92,
   "metadata": {},
   "outputs": [
    {
     "name": "stdout",
     "output_type": "stream",
     "text": [
      "Epoch 1/1\n",
      "39545/39545 [==============================] - 2708s 68ms/step - loss: 0.0061\n"
     ]
    },
    {
     "data": {
      "text/plain": [
       "<keras.callbacks.History at 0x7f38f6eebe90>"
      ]
     },
     "execution_count": 92,
     "metadata": {},
     "output_type": "execute_result"
    }
   ],
   "source": [
    "model.fit(X_train, y_train)"
   ]
  },
  {
   "cell_type": "code",
   "execution_count": 29,
   "metadata": {},
   "outputs": [],
   "source": [
    "from keras.models import *\n",
    "model = load_model('f:/cnn3.h5')"
   ]
  },
  {
   "cell_type": "code",
   "execution_count": 30,
   "metadata": {},
   "outputs": [
    {
     "data": {
      "text/plain": [
       "1.0"
      ]
     },
     "execution_count": 30,
     "metadata": {},
     "output_type": "execute_result"
    }
   ],
   "source": [
    "np.mean(np.argmax(model.predict(X_test[:100]), axis=1) == np.argmax(y_test[:100], axis=1))"
   ]
  },
  {
   "cell_type": "code",
   "execution_count": 31,
   "metadata": {},
   "outputs": [
    {
     "data": {
      "text/plain": [
       "1.0"
      ]
     },
     "execution_count": 31,
     "metadata": {},
     "output_type": "execute_result"
    }
   ],
   "source": [
    "np.mean(np.argmax(model.predict(X_test[:1000]), axis=1) == np.argmax(y_test[:1000], axis=1))"
   ]
  },
  {
   "cell_type": "code",
   "execution_count": 32,
   "metadata": {},
   "outputs": [],
   "source": [
    "def get_non0_index_scope(l):\n",
    "    \"\"\"\n",
    "\n",
    "    :param l:\n",
    "    :return:\n",
    "    \"\"\"\n",
    "    if l[0]:\n",
    "        start = 0\n",
    "    else:\n",
    "        start = l.index(True)\n",
    "    l.reverse()\n",
    "    if l[0]:\n",
    "        end = 0\n",
    "    else:\n",
    "        end = l.index(True)\n",
    "    end = len(l) - end\n",
    "    return start, end\n",
    "\n",
    "\n",
    "def get_min_content_area(img):\n",
    "    \"\"\"\n",
    "\n",
    "    :param img:\n",
    "    :return:\n",
    "    \"\"\"\n",
    "    col_proj = (np.sum(img, axis=0) != 0).tolist()\n",
    "    row_proj = (np.sum(img, axis=1) != 0).tolist()\n",
    "    col_start, col_end = get_non0_index_scope(col_proj)\n",
    "    row_start, row_end = get_non0_index_scope(row_proj)\n",
    "\n",
    "    return row_start, row_end, col_start, col_end\n",
    "\n",
    "\n",
    "def get_resize_padding_img(img, size=None, padding=None):\n",
    "    \"\"\"\n",
    "\n",
    "    :param img:\n",
    "    :param size:\n",
    "    :param padding:\n",
    "    :return:\n",
    "    \"\"\"\n",
    "    if size and padding:\n",
    "        sub_img = cv2.resize(img, size)\n",
    "        sub_img = np.pad(sub_img, padding, mode='constant')\n",
    "        sub_img = np.pad(sub_img, ((3,), (3,)), mode='constant')\n",
    "    else:\n",
    "        sub_img = cv2.resize(img, (28, 28))\n",
    "    return sub_img"
   ]
  },
  {
   "cell_type": "code",
   "execution_count": 33,
   "metadata": {},
   "outputs": [],
   "source": [
    "def preprocessing(img):\n",
    "    row_start, row_end, col_start, col_end = get_min_content_area(img)\n",
    "    sub_img = img[row_start: row_end, col_start: col_end]\n",
    "    \n",
    "    if col_end - col_start < row_end - row_start:  # 铅直边较长\n",
    "        change_rate = (row_end - row_start - 42) / float((row_end - row_start))\n",
    "        changed_width = int((col_end - col_start) * (1 - change_rate))\n",
    "\n",
    "        if changed_width % 2 == 1:\n",
    "            changed_width += 1\n",
    "        if changed_width == 0:\n",
    "            changed_width = 2\n",
    "        pad = (42 - changed_width) / 2\n",
    "        padding = ((0,), (int(pad),))\n",
    "\n",
    "#         print(y1 - y0, x1 - x0, 1 - change_rate, changed_width, pad)\n",
    "#         plt.imshow(sub_img)\n",
    "#         plt.show()\n",
    "\n",
    "        sub_img = get_resize_padding_img(sub_img, size=(changed_width, 42), padding=padding)\n",
    "\n",
    "    else:  # 水平边较长\n",
    "        # change_rate = (x1 - x0 - 42) / float((x1 - x0))\n",
    "        # changed_height = int((y1 - y0) * (1 - change_rate))\n",
    "\n",
    "        change_rate = (col_end - col_start - 42) / float((col_end - col_start))\n",
    "        changed_height = int((row_end - row_start) * (1 - change_rate))\n",
    "\n",
    "        if changed_height % 2 == 1:\n",
    "            changed_height += 1\n",
    "        if changed_height == 0:\n",
    "            changed_height = 2\n",
    "        pad = (42 - changed_height) / 2\n",
    "        padding = ((int(pad),), (0,))\n",
    "\n",
    "#         print(y1 - y0, x1 - x0, 1 - change_rate, changed_height, pad)\n",
    "#         plt.imshow(sub_img)\n",
    "#         plt.show()\n",
    "\n",
    "        sub_img = get_resize_padding_img(sub_img, size=(42, changed_height), padding=padding)\n",
    "\n",
    "    return sub_img"
   ]
  },
  {
   "cell_type": "code",
   "execution_count": 34,
   "metadata": {},
   "outputs": [
    {
     "data": {
      "image/png": "[encoded data removed]",
      "text/plain": [
       "<matplotlib.figure.Figure at 0x2403fc08b38>"
      ]
     },
     "metadata": {},
     "output_type": "display_data"
    },
    {
     "data": {
      "image/png": "[encoded data removed]",
      "text/plain": [
       "<matplotlib.figure.Figure at 0x2403f564c50>"
      ]
     },
     "metadata": {},
     "output_type": "display_data"
    },
    {
     "data": {
      "image/png": "[encoded data removed]",
      "text/plain": [
       "<matplotlib.figure.Figure at 0x24045880358>"
      ]
     },
     "metadata": {},
     "output_type": "display_data"
    },
    {
     "data": {
      "image/png": "[encoded data removed]",
      "text/plain": [
       "<matplotlib.figure.Figure at 0x240458e0b00>"
      ]
     },
     "metadata": {},
     "output_type": "display_data"
    },
    {
     "data": {
      "image/png": "[encoded data removed]",
      "text/plain": [
       "<matplotlib.figure.Figure at 0x2403faab828>"
      ]
     },
     "metadata": {},
     "output_type": "display_data"
    },
    {
     "data": {
      "image/png": "[encoded data removed]",
      "text/plain": [
       "<matplotlib.figure.Figure at 0x2403f9464a8>"
      ]
     },
     "metadata": {},
     "output_type": "display_data"
    },
    {
     "data": {
      "image/png": "[encoded data removed]",
      "text/plain": [
       "<matplotlib.figure.Figure at 0x24045bbf3c8>"
      ]
     },
     "metadata": {},
     "output_type": "display_data"
    }
   ],
   "source": [
    "import matplotlib.pyplot as plt\n",
    "for j in range(0, 7):\n",
    "    \n",
    "    for i in range(1, 11):\n",
    "        img = cv2.imread('testimg/%s/%s.jpg' % (j, i), cv2.IMREAD_GRAYSCALE)\n",
    "        img = (255 - img) / 255.0\n",
    "        img[img < 0.16] = 0.0\n",
    "\n",
    "        img = cv2.resize(img, (48, 48))\n",
    "\n",
    "        sub_img = preprocessing(img)\n",
    "\n",
    "#             cv2.imwrite(fname, sub_img * 255)\n",
    "\n",
    "        plt.subplot(7, 10, i + j * 10)\n",
    "        plt.imshow(sub_img)\n",
    "        plt.title(np.argmax(model.predict(np.expand_dims(np.expand_dims(sub_img, 0), -1))))\n",
    "    plt.show()"
   ]
  },
  {
   "cell_type": "code",
   "execution_count": 10,
   "metadata": {},
   "outputs": [
    {
     "data": {
      "text/plain": [
       "<matplotlib.image.AxesImage at 0x2401c7972b0>"
      ]
     },
     "execution_count": 10,
     "metadata": {},
     "output_type": "execute_result"
    },
    {
     "data": {
      "image/png": "[encoded data removed]",
      "text/plain": [
       "<matplotlib.figure.Figure at 0x2401c797978>"
      ]
     },
     "metadata": {},
     "output_type": "display_data"
    }
   ],
   "source": [
    "plt.title(y[100])\n",
    "plt.imshow(X[100])"
   ]
  },
  {
   "cell_type": "code",
   "execution_count": 12,
   "metadata": {},
   "outputs": [
    {
     "data": {
      "text/plain": [
       "<matplotlib.image.AxesImage at 0x2402960a630>"
      ]
     },
     "execution_count": 12,
     "metadata": {},
     "output_type": "execute_result"
    },
    {
     "data": {
      "image/png": "[encoded data removed]",
      "text/plain": [
       "<matplotlib.figure.Figure at 0x2402566c198>"
      ]
     },
     "metadata": {},
     "output_type": "display_data"
    }
   ],
   "source": [
    "plt.imshow(cv2.resize(X[100], (32, 32)))"
   ]
  },
  {
   "cell_type": "code",
   "execution_count": null,
   "metadata": {},
   "outputs": [],
   "source": []
  }
 ],
 "metadata": {
  "kernelspec": {
   "display_name": "Python 3",
   "language": "python",
   "name": "python3"
  },
  "language_info": {
   "codemirror_mode": {
    "name": "ipython",
    "version": 3
   },
   "file_extension": ".py",
   "mimetype": "text/x-python",
   "name": "python",
   "nbconvert_exporter": "python",
   "pygments_lexer": "ipython3",
   "version": "3.6.4"
  }
 },
 "nbformat": 4,
 "nbformat_minor": 2
}
