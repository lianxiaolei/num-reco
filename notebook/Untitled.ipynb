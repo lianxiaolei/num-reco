{
 "cells": [
  {
   "cell_type": "code",
   "execution_count": 1,
   "metadata": {},
   "outputs": [
    {
     "name": "stderr",
     "output_type": "stream",
     "text": [
      "C:\\ProgramData\\Anaconda3\\lib\\site-packages\\h5py\\__init__.py:36: FutureWarning: Conversion of the second argument of issubdtype from `float` to `np.floating` is deprecated. In future, it will be treated as `np.float64 == np.dtype(float).type`.\n",
      "  from ._conv import register_converters as _register_converters\n"
     ]
    }
   ],
   "source": [
    "import numpy as np\n",
    "import cv2\n",
    "import matplotlib.pyplot as plt\n",
    "import matplotlib.patches as patches\n",
    "import random\n",
    "%matplotlib inline\n",
    "%config InlineBackend.figure_format = 'retina'\n",
    "import tensorflow as tf\n",
    "import numpy as np"
   ]
  },
  {
   "cell_type": "code",
   "execution_count": 4,
   "metadata": {},
   "outputs": [],
   "source": [
    "def get_non0_index_scope(l):\n",
    "    \"\"\"\n",
    "\n",
    "    :param l:\n",
    "    :return:\n",
    "    \"\"\"\n",
    "    if l[0]:\n",
    "        start = 0\n",
    "    else:\n",
    "        start = l.index(True)\n",
    "    l.reverse()\n",
    "    if l[0]:\n",
    "        end = 0\n",
    "    else:\n",
    "        end = l.index(True)\n",
    "    end = len(l) - end\n",
    "    return start, end\n",
    "\n",
    "\n",
    "def get_min_content_area(img):\n",
    "    \"\"\"\n",
    "\n",
    "    :param img:\n",
    "    :return:\n",
    "    \"\"\"\n",
    "    col_proj = (np.sum(img, axis=0) != 0).tolist()\n",
    "    row_proj = (np.sum(img, axis=1) != 0).tolist()\n",
    "    col_start, col_end = get_non0_index_scope(col_proj)\n",
    "    row_start, row_end = get_non0_index_scope(row_proj)\n",
    "\n",
    "    return row_start, row_end, col_start, col_end\n",
    "\n",
    "\n",
    "def get_resize_padding_img(img, size=None, padding=None):\n",
    "    \"\"\"\n",
    "\n",
    "    :param img:\n",
    "    :param size:\n",
    "    :param padding:\n",
    "    :return:\n",
    "    \"\"\"\n",
    "    if size and padding:\n",
    "        sub_img = cv2.resize(img, size)\n",
    "        sub_img = np.pad(sub_img, padding, mode='constant')\n",
    "        sub_img = np.pad(sub_img, ((3,), (3,)), mode='constant')\n",
    "    else:\n",
    "        sub_img = cv2.resize(img, (28, 28))\n",
    "    return sub_img"
   ]
  },
  {
   "cell_type": "code",
   "execution_count": 5,
   "metadata": {},
   "outputs": [],
   "source": [
    "def preprocessing(img):\n",
    "    row_start, row_end, col_start, col_end = get_min_content_area(img)\n",
    "    sub_img = img[row_start: row_end, col_start: col_end]\n",
    "    \n",
    "    if col_end - col_start < row_end - row_start:  # 铅直边较长\n",
    "        change_rate = (row_end - row_start - 42) / float((row_end - row_start))\n",
    "        changed_width = int((col_end - col_start) * (1 - change_rate))\n",
    "\n",
    "        if changed_width % 2 == 1:\n",
    "            changed_width += 1\n",
    "        if changed_width == 0:\n",
    "            changed_width = 2\n",
    "        pad = (42 - changed_width) / 2\n",
    "        padding = ((0,), (int(pad),))\n",
    "\n",
    "#         print(y1 - y0, x1 - x0, 1 - change_rate, changed_width, pad)\n",
    "#         plt.imshow(sub_img)\n",
    "#         plt.show()\n",
    "\n",
    "        sub_img = get_resize_padding_img(sub_img, size=(changed_width, 42), padding=padding)\n",
    "\n",
    "    else:  # 水平边较长\n",
    "        # change_rate = (x1 - x0 - 42) / float((x1 - x0))\n",
    "        # changed_height = int((y1 - y0) * (1 - change_rate))\n",
    "\n",
    "        change_rate = (col_end - col_start - 42) / float((col_end - col_start))\n",
    "        changed_height = int((row_end - row_start) * (1 - change_rate))\n",
    "\n",
    "        if changed_height % 2 == 1:\n",
    "            changed_height += 1\n",
    "        if changed_height == 0:\n",
    "            changed_height = 2\n",
    "        pad = (42 - changed_height) / 2\n",
    "        padding = ((int(pad),), (0,))\n",
    "\n",
    "#         print(y1 - y0, x1 - x0, 1 - change_rate, changed_height, pad)\n",
    "#         plt.imshow(sub_img)\n",
    "#         plt.show()\n",
    "\n",
    "        sub_img = get_resize_padding_img(sub_img, size=(42, changed_height), padding=padding)\n",
    "\n",
    "    return sub_img"
   ]
  },
  {
   "cell_type": "code",
   "execution_count": 26,
   "metadata": {},
   "outputs": [],
   "source": [
    "def preprocess(gray):\n",
    "    sobel = cv2.Sobel(gray, cv2.CV_8U, dx=1, dy=0, ksize=3)\n",
    "    sobel = cv2.Sobel(sobel, cv2.CV_8U, dx=0, dy=1, ksize=3)\n",
    "    ret, binary = cv2.threshold(sobel, 0, 255, cv2.THRESH_OTSU)\n",
    "    print(ret)\n",
    "    plt.imshow(binary)\n",
    "    plt.show()\n",
    "    return binary"
   ]
  },
  {
   "cell_type": "code",
   "execution_count": 32,
   "metadata": {},
   "outputs": [
    {
     "data": {
      "image/png": "[encoded data removed]",
      "text/plain": [
       "<matplotlib.figure.Figure at 0x25840ec5710>"
      ]
     },
     "metadata": {
      "image/png": {
       "height": 250,
       "width": 176
      }
     },
     "output_type": "display_data"
    },
    {
     "data": {
      "image/png": "[encoded data removed]",
      "text/plain": [
       "<matplotlib.figure.Figure at 0x2583f6e3550>"
      ]
     },
     "metadata": {
      "image/png": {
       "height": 250,
       "width": 253
      }
     },
     "output_type": "display_data"
    },
    {
     "name": "stdout",
     "output_type": "stream",
     "text": [
      "66.0\n"
     ]
    },
    {
     "data": {
      "image/png": "[encoded data removed]",
      "text/plain": [
       "<matplotlib.figure.Figure at 0x2583f368a20>"
      ]
     },
     "metadata": {
      "image/png": {
       "height": 250,
       "width": 176
      }
     },
     "output_type": "display_data"
    },
    {
     "data": {
      "image/png": "[encoded data removed]",
      "text/plain": [
       "<matplotlib.figure.Figure at 0x2583f0be7b8>"
      ]
     },
     "metadata": {
      "image/png": {
       "height": 250,
       "width": 253
      }
     },
     "output_type": "display_data"
    }
   ],
   "source": [
    "img = cv2.imread('testimg/%s/%s.jpg' % (0, 1), cv2.IMREAD_GRAYSCALE)\n",
    "img = 255 - img\n",
    "img = cv2.GaussianBlur(img, (7, 7), 0)\n",
    "plt.imshow(img)\n",
    "plt.show()\n",
    "subimg = preprocessing(img)\n",
    "plt.imshow(subimg)\n",
    "plt.show()\n",
    "img = img * preprocess(img)\n",
    "img = preprocessing(img)\n",
    "plt.imshow(img)\n",
    "plt.show()"
   ]
  },
  {
   "cell_type": "code",
   "execution_count": 15,
   "metadata": {},
   "outputs": [
    {
     "ename": "NameError",
     "evalue": "name 'ret' is not defined",
     "output_type": "error",
     "traceback": [
      "\u001b[1;31m---------------------------------------------------------------------------\u001b[0m",
      "\u001b[1;31mNameError\u001b[0m                                 Traceback (most recent call last)",
      "\u001b[1;32m<ipython-input-15-d1af5e1c2651>\u001b[0m in \u001b[0;36m<module>\u001b[1;34m()\u001b[0m\n\u001b[1;32m----> 1\u001b[1;33m \u001b[0mret\u001b[0m\u001b[1;33m\u001b[0m\u001b[0m\n\u001b[0m",
      "\u001b[1;31mNameError\u001b[0m: name 'ret' is not defined"
     ]
    }
   ],
   "source": [
    "ret"
   ]
  },
  {
   "cell_type": "code",
   "execution_count": null,
   "metadata": {},
   "outputs": [],
   "source": []
  }
 ],
 "metadata": {
  "kernelspec": {
   "display_name": "Python 3",
   "language": "python",
   "name": "python3"
  },
  "language_info": {
   "codemirror_mode": {
    "name": "ipython",
    "version": 3
   },
   "file_extension": ".py",
   "mimetype": "text/x-python",
   "name": "python",
   "nbconvert_exporter": "python",
   "pygments_lexer": "ipython3",
   "version": "3.6.4"
  }
 },
 "nbformat": 4,
 "nbformat_minor": 2
}
