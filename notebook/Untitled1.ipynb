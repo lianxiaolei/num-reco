{
 "cells": [
  {
   "cell_type": "code",
   "execution_count": 17,
   "metadata": {},
   "outputs": [],
   "source": [
    "import numpy as np\n",
    "import cv2\n",
    "import matplotlib\n",
    "import matplotlib.pyplot as plt\n",
    "import matplotlib.patches as patches\n",
    "import random\n",
    "%matplotlib inline\n",
    "%config InlineBackend.figure_format = 'retina'\n",
    "import tensorflow as tf\n",
    "import numpy as np\n",
    "import time\n",
    "from scipy.ndimage import uniform_filter"
   ]
  },
  {
   "cell_type": "code",
   "execution_count": 2,
   "metadata": {},
   "outputs": [],
   "source": [
    "from sklearn.model_selection import train_test_split"
   ]
  },
  {
   "cell_type": "code",
   "execution_count": 107,
   "metadata": {},
   "outputs": [
    {
     "data": {
      "text/plain": [
       "(<matplotlib.image.AxesImage at 0x28d6499e160>, (2, 90, 58))"
      ]
     },
     "execution_count": 107,
     "metadata": {},
     "output_type": "execute_result"
    },
    {
     "data": {
      "image/png": "[encoded data removed]",
      "text/plain": [
       "<matplotlib.figure.Figure at 0x28d6319eb00>"
      ]
     },
     "metadata": {
      "image/png": {
       "height": 250,
       "width": 176
      }
     },
     "output_type": "display_data"
    }
   ],
   "source": [
    "def read_img(file_name, color_inv_norm=True):\n",
    "    \"\"\"\n",
    "    read a image from local file system\n",
    "    :param file_name:\n",
    "    :param color_inv_norm:\n",
    "    :return:\n",
    "    \"\"\"\n",
    "    img = cv2.imread(file_name, cv2.IMREAD_GRAYSCALE)\n",
    "\n",
    "    if color_inv_norm:\n",
    "        img = 255 - img\n",
    "\n",
    "        # img = remove_back(img, np.ones((5, 5), np.uint8))\n",
    "\n",
    "        img = img / 255.0\n",
    "    else:\n",
    "        img[img < 50] = 0\n",
    "        img = img / 255.0\n",
    "\n",
    "    return img\n",
    "\n",
    "def get_data(base_path):\n",
    "    \"\"\"\n",
    "\n",
    "    :param base_path:\n",
    "    :return:\n",
    "    \"\"\"\n",
    "    nums = os.listdir(base_path)\n",
    "    train_data = []\n",
    "    train_label = []\n",
    "    lbl = [[1, 0, 0, 0, 0, 0, 0, 0, 0, 0],\n",
    "           [0, 1, 0, 0, 0, 0, 0, 0, 0, 0],\n",
    "           [0, 0, 1, 0, 0, 0, 0, 0, 0, 0],\n",
    "           [0, 0, 0, 1, 0, 0, 0, 0, 0, 0],\n",
    "           [0, 0, 0, 0, 1, 0, 0, 0, 0, 0],\n",
    "           [0, 0, 0, 0, 0, 1, 0, 0, 0, 0],\n",
    "           [0, 0, 0, 0, 0, 0, 1, 0, 0, 0],\n",
    "           [0, 0, 0, 0, 0, 0, 0, 1, 0, 0],\n",
    "           [0, 0, 0, 0, 0, 0, 0, 0, 1, 0],\n",
    "           [0, 0, 0, 0, 0, 0, 0, 0, 0, 1]]\n",
    "    for num in tqdm(nums):\n",
    "        calc = 0\n",
    "        jpgs = os.listdir(os.path.join(base_path, num))\n",
    "#         print('-' * 30, 'now load %s' % num, '-' * 30)\n",
    "        for jpg in jpgs:\n",
    "            # calc += 1\n",
    "            # if calc > 5000:\n",
    "            #     print('the %s data is more than 5000' % num)\n",
    "                # break\n",
    "\n",
    "            fname = os.path.join(base_path, num, jpg)\n",
    "            pic = read_img(fname, color_inv_norm=False)\n",
    "            train_data.append(pic)\n",
    "            train_label.append(lbl[int(num)])\n",
    "\n",
    "    train_data = np.array(train_data)\n",
    "    train_label = np.array(train_label)\n",
    "    # print(train_data.shape, train_label.shape)\n",
    "    # print(train_data)\n",
    "    # print(np.argmax(train_label, axis=1))\n",
    "    return train_data, train_label\n",
    "\n"
   ]
  },
  {
   "cell_type": "code",
   "execution_count": 160,
   "metadata": {},
   "outputs": [],
   "source": [
    "def hog_feature_mul(im):\n",
    "    \"\"\"Compute Histogram of Gradient (HOG) feature for an image\n",
    "\n",
    "         Modified from skimage.feature.hog\n",
    "         http://pydoc.net/Python/scikits-image/0.4.2/skimage.feature.hog\n",
    "\n",
    "       Reference:\n",
    "         Histograms of Oriented Gradients for Human Detection\n",
    "         Navneet Dalal and Bill Triggs, CVPR 2005\n",
    "\n",
    "      Parameters:\n",
    "        im : an input grayscale or rgb image\n",
    "\n",
    "      Returns:\n",
    "        feat: Histogram of Gradient (HOG) feature\n",
    "\n",
    "    \"\"\"\n",
    "    # convert rgb to grayscale if needed\n",
    "#     if im.ndim == 3:\n",
    "#         image = rgb2gray(im)\n",
    "#     else:\n",
    "#         image = np.atleast_2d(im)\n",
    "    image = im\n",
    "    _, sx, sy = image.shape  # image size\n",
    "    orientations = 9  # number of gradient bins\n",
    "    cx, cy = (8, 8)  # pixels per cell\n",
    "    gx = np.zeros(image.shape)\n",
    "    gy = np.zeros(image.shape)\n",
    "    gx[:, :, :-1] = np.diff(image, n=1, axis=2)  # compute gradient on x-direction\n",
    "    gy[:, :-1, :] = np.diff(image, n=1, axis=1)  # compute gradient on y-direction\n",
    "    grad_mag = np.sqrt(gx ** 2 + gy ** 2)  # gradient magnitude\n",
    "    grad_ori = np.arctan2(gy, (gx + 1e-15)) * (180 / np.pi) + 90  # gradient orientation\n",
    "    print('grad_ori', grad_ori.shape)\n",
    "    n_cellsx = int(np.floor(sx / cx))  # number of cells in x\n",
    "    n_cellsy = int(np.floor(sy / cy))  # number of cells in y\n",
    "    # compute orientations integral images\n",
    "    orientation_histogram = np.zeros((image.shape[0], n_cellsx, n_cellsy, orientations))\n",
    "#     print(orientation_histogram.shape)\n",
    "    for i in range(orientations):\n",
    "        # create new integral image for this orientation\n",
    "        # isolate orientations in this range\n",
    "        temp_ori = np.where(grad_ori < 180 / orientations * (i + 1),\n",
    "                            grad_ori, 0)\n",
    "        temp_ori = np.where(grad_ori >= 180 / orientations * i,\n",
    "                            temp_ori, 0)\n",
    "        # select magnitudes for those orientations\n",
    "        cond2 = temp_ori > 0\n",
    "        temp_mag = np.where(cond2, grad_mag, 0)\n",
    "        \n",
    "        if i == 0:\n",
    "            print('tmp_mag', uniform_filter(temp_mag, size=(1, cx, cy))[0::1, cx // 2::cx, cy // 2::cy].shape)\n",
    "        \n",
    "        # uniform_filter:模糊化\n",
    "        orientation_histogram[:, :, :, i] = uniform_filter(temp_mag, size=(1, cx, cy))[0::1, cx // 2::cx, cy // 2::cy]\n",
    "    return orientation_histogram.reshape(orientation_histogram.shape[0], -1)"
   ]
  },
  {
   "cell_type": "code",
   "execution_count": 161,
   "metadata": {},
   "outputs": [
    {
     "name": "stdout",
     "output_type": "stream",
     "text": [
      "grad_ori (2, 90, 58)\n",
      "tmp_mag (2, 11, 7)\n"
     ]
    },
    {
     "data": {
      "text/plain": [
       "(2, 693)"
      ]
     },
     "execution_count": 161,
     "metadata": {},
     "output_type": "execute_result"
    }
   ],
   "source": [
    "bins = hog_feature_mul(imgs)\n",
    "bins.shape"
   ]
  },
  {
   "cell_type": "code",
   "execution_count": 162,
   "metadata": {},
   "outputs": [],
   "source": [
    "from sklearn.svm import SVC\n",
    "clf = SVC(gamma='auto')"
   ]
  },
  {
   "cell_type": "code",
   "execution_count": null,
   "metadata": {},
   "outputs": [],
   "source": []
  }
 ],
 "metadata": {
  "kernelspec": {
   "display_name": "Python 3",
   "language": "python",
   "name": "python3"
  },
  "language_info": {
   "codemirror_mode": {
    "name": "ipython",
    "version": 3
   },
   "file_extension": ".py",
   "mimetype": "text/x-python",
   "name": "python",
   "nbconvert_exporter": "python",
   "pygments_lexer": "ipython3",
   "version": "3.6.4"
  }
 },
 "nbformat": 4,
 "nbformat_minor": 2
}
