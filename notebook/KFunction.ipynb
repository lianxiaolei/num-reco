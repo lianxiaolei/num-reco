{
 "cells": [
  {
   "cell_type": "code",
   "execution_count": 1,
   "metadata": {},
   "outputs": [
    {
     "name": "stderr",
     "output_type": "stream",
     "text": [
      "C:\\ProgramData\\Anaconda3\\lib\\site-packages\\h5py\\__init__.py:36: FutureWarning: Conversion of the second argument of issubdtype from `float` to `np.floating` is deprecated. In future, it will be treated as `np.float64 == np.dtype(float).type`.\n",
      "  from ._conv import register_converters as _register_converters\n",
      "Using TensorFlow backend.\n"
     ]
    }
   ],
   "source": [
    "import keras\n",
    "from keras.callbacks import *\n",
    "from keras.layers import *\n",
    "from keras.models import *\n",
    "from keras.preprocessing import image\n",
    "import tensorflow as tf"
   ]
  },
  {
   "cell_type": "code",
   "execution_count": 2,
   "metadata": {},
   "outputs": [],
   "source": [
    "class SimpleOCR(keras.Model):\n",
    "\n",
    "    def __init__(self, num_classes=10, use_bn=False, use_dp=False):\n",
    "        super(SimpleOCR, self).__init__()\n",
    "        self.use_bn = use_bn\n",
    "        self.use_dp = use_dp\n",
    "        self.num_classes = num_classes\n",
    "\n",
    "        if self.use_dp:\n",
    "            self.dp = keras.layers.Dropout(0.1)\n",
    "        if self.use_bn:\n",
    "            self.bn = keras.layers.BatchNormalization(axis=-1)\n",
    "\n",
    "    def conv_pool(self, x, units, conv_kernel=(3, 3), pool_size=(2, 2), strides=(1, 1)):\n",
    "        x = Conv2D(units, kernel_size=conv_kernel, padding='same', strides=strides, name=None)(x)\n",
    "        x = Activation(activation='relu')(x)\n",
    "        if self.use_bn:\n",
    "            x = self.bn(x)\n",
    "        x = MaxPool2D(pool_size=pool_size)(x)\n",
    "        if self.use_dp:\n",
    "            x = self.dp(x)\n",
    "        return x\n",
    "\n",
    "    def dense(self, x, units, kernel_initializer='he_normal', acti='relu', laye='mid'):\n",
    "        x = Dense(units, kernel_initializer=kernel_initializer)(x)\n",
    "        if laye == 'mid' and self.use_bn:\n",
    "            x = self.bn(x)\n",
    "        x = Activation(acti)(x)\n",
    "        if laye == 'mid' and self.use_dp:\n",
    "            x = self.dp(x)\n",
    "        return x\n",
    "\n",
    "    def call(self, inputs, mask=None):\n",
    "        print('calling call')\n",
    "        x = self.conv_pool(inputs, 32)\n",
    "        x = self.conv_pool(x, 64)\n",
    "        x = self.conv_pool(x, 512)\n",
    "\n",
    "        x = Flatten()(x)\n",
    "        x = self.dense(x, 1000, laye='mid')\n",
    "        x = self.dense(x, 10, laye='end')\n",
    "\n",
    "        return x"
   ]
  },
  {
   "cell_type": "code",
   "execution_count": 6,
   "metadata": {
    "collapsed": true
   },
   "outputs": [
    {
     "name": "stdout",
     "output_type": "stream",
     "text": [
      "Found 123520 images belonging to 10 classes.\n",
      "Found 123520 images belonging to 10 classes.\n",
      "[<keras.layers.core.Dropout object at 0x000002B8F07A2748>]\n",
      "<keras.layers.core.Dropout object at 0x000002B8F07A2748>\n",
      "model length: 1\n"
     ]
    },
    {
     "name": "stderr",
     "output_type": "stream",
     "text": [
      "C:\\ProgramData\\Anaconda3\\lib\\site-packages\\ipykernel_launcher.py:51: UserWarning: The semantics of the Keras 2 argument `steps_per_epoch` is not the same as the Keras 1 argument `samples_per_epoch`. `steps_per_epoch` is the number of batches to draw from the generator at each epoch. Basically steps_per_epoch = samples_per_epoch/batch_size. Similarly `nb_val_samples`->`validation_steps` and `val_samples`->`steps` arguments have changed. Update your method calls accordingly.\n",
      "C:\\ProgramData\\Anaconda3\\lib\\site-packages\\ipykernel_launcher.py:51: UserWarning: Update your `fit_generator` call to the Keras 2 API: `fit_generator(<keras_pre..., steps_per_epoch=512, epochs=20, validation_data=<keras_pre..., verbose=True, callbacks=[<keras.ca..., validation_steps=100)`\n"
     ]
    },
    {
     "ename": "RuntimeError",
     "evalue": "You must compile your model before using it.",
     "output_type": "error",
     "traceback": [
      "\u001b[1;31m---------------------------------------------------------------------------\u001b[0m",
      "\u001b[1;31mRuntimeError\u001b[0m                              Traceback (most recent call last)",
      "\u001b[1;32m<ipython-input-6-83618b595004>\u001b[0m in \u001b[0;36m<module>\u001b[1;34m()\u001b[0m\n\u001b[0;32m     49\u001b[0m     \u001b[0mnb_val_samples\u001b[0m\u001b[1;33m=\u001b[0m\u001b[1;36m100\u001b[0m\u001b[1;33m,\u001b[0m\u001b[1;33m\u001b[0m\u001b[0m\n\u001b[0;32m     50\u001b[0m     \u001b[0mverbose\u001b[0m\u001b[1;33m=\u001b[0m\u001b[1;32mTrue\u001b[0m\u001b[1;33m,\u001b[0m\u001b[1;33m\u001b[0m\u001b[0m\n\u001b[1;32m---> 51\u001b[1;33m     callbacks=[early_stopping])\n\u001b[0m\u001b[0;32m     52\u001b[0m \u001b[1;33m\u001b[0m\u001b[0m\n\u001b[0;32m     53\u001b[0m \u001b[0mmodel\u001b[0m\u001b[1;33m.\u001b[0m\u001b[0msave\u001b[0m\u001b[1;33m(\u001b[0m\u001b[1;34m'cnn3_gen_1.5.h5'\u001b[0m\u001b[1;33m)\u001b[0m\u001b[1;33m\u001b[0m\u001b[0m\n",
      "\u001b[1;32mC:\\ProgramData\\Anaconda3\\lib\\site-packages\\keras\\legacy\\interfaces.py\u001b[0m in \u001b[0;36mwrapper\u001b[1;34m(*args, **kwargs)\u001b[0m\n\u001b[0;32m     89\u001b[0m                 warnings.warn('Update your `' + object_name +\n\u001b[0;32m     90\u001b[0m                               '` call to the Keras 2 API: ' + signature, stacklevel=2)\n\u001b[1;32m---> 91\u001b[1;33m             \u001b[1;32mreturn\u001b[0m \u001b[0mfunc\u001b[0m\u001b[1;33m(\u001b[0m\u001b[1;33m*\u001b[0m\u001b[0margs\u001b[0m\u001b[1;33m,\u001b[0m \u001b[1;33m**\u001b[0m\u001b[0mkwargs\u001b[0m\u001b[1;33m)\u001b[0m\u001b[1;33m\u001b[0m\u001b[0m\n\u001b[0m\u001b[0;32m     92\u001b[0m         \u001b[0mwrapper\u001b[0m\u001b[1;33m.\u001b[0m\u001b[0m_original_function\u001b[0m \u001b[1;33m=\u001b[0m \u001b[0mfunc\u001b[0m\u001b[1;33m\u001b[0m\u001b[0m\n\u001b[0;32m     93\u001b[0m         \u001b[1;32mreturn\u001b[0m \u001b[0mwrapper\u001b[0m\u001b[1;33m\u001b[0m\u001b[0m\n",
      "\u001b[1;32mC:\\ProgramData\\Anaconda3\\lib\\site-packages\\keras\\engine\\training.py\u001b[0m in \u001b[0;36mfit_generator\u001b[1;34m(self, generator, steps_per_epoch, epochs, verbose, callbacks, validation_data, validation_steps, class_weight, max_queue_size, workers, use_multiprocessing, shuffle, initial_epoch)\u001b[0m\n\u001b[0;32m   1424\u001b[0m             \u001b[0muse_multiprocessing\u001b[0m\u001b[1;33m=\u001b[0m\u001b[0muse_multiprocessing\u001b[0m\u001b[1;33m,\u001b[0m\u001b[1;33m\u001b[0m\u001b[0m\n\u001b[0;32m   1425\u001b[0m             \u001b[0mshuffle\u001b[0m\u001b[1;33m=\u001b[0m\u001b[0mshuffle\u001b[0m\u001b[1;33m,\u001b[0m\u001b[1;33m\u001b[0m\u001b[0m\n\u001b[1;32m-> 1426\u001b[1;33m             initial_epoch=initial_epoch)\n\u001b[0m\u001b[0;32m   1427\u001b[0m \u001b[1;33m\u001b[0m\u001b[0m\n\u001b[0;32m   1428\u001b[0m     \u001b[1;33m@\u001b[0m\u001b[0minterfaces\u001b[0m\u001b[1;33m.\u001b[0m\u001b[0mlegacy_generator_methods_support\u001b[0m\u001b[1;33m\u001b[0m\u001b[0m\n",
      "\u001b[1;32mC:\\ProgramData\\Anaconda3\\lib\\site-packages\\keras\\engine\\training_generator.py\u001b[0m in \u001b[0;36mfit_generator\u001b[1;34m(model, generator, steps_per_epoch, epochs, verbose, callbacks, validation_data, validation_steps, class_weight, max_queue_size, workers, use_multiprocessing, shuffle, initial_epoch)\u001b[0m\n\u001b[0;32m     35\u001b[0m \u001b[1;33m\u001b[0m\u001b[0m\n\u001b[0;32m     36\u001b[0m     \u001b[0mdo_validation\u001b[0m \u001b[1;33m=\u001b[0m \u001b[0mbool\u001b[0m\u001b[1;33m(\u001b[0m\u001b[0mvalidation_data\u001b[0m\u001b[1;33m)\u001b[0m\u001b[1;33m\u001b[0m\u001b[0m\n\u001b[1;32m---> 37\u001b[1;33m     \u001b[0mmodel\u001b[0m\u001b[1;33m.\u001b[0m\u001b[0m_make_train_function\u001b[0m\u001b[1;33m(\u001b[0m\u001b[1;33m)\u001b[0m\u001b[1;33m\u001b[0m\u001b[0m\n\u001b[0m\u001b[0;32m     38\u001b[0m     \u001b[1;32mif\u001b[0m \u001b[0mdo_validation\u001b[0m\u001b[1;33m:\u001b[0m\u001b[1;33m\u001b[0m\u001b[0m\n\u001b[0;32m     39\u001b[0m         \u001b[0mmodel\u001b[0m\u001b[1;33m.\u001b[0m\u001b[0m_make_test_function\u001b[0m\u001b[1;33m(\u001b[0m\u001b[1;33m)\u001b[0m\u001b[1;33m\u001b[0m\u001b[0m\n",
      "\u001b[1;32mC:\\ProgramData\\Anaconda3\\lib\\site-packages\\keras\\engine\\training.py\u001b[0m in \u001b[0;36m_make_train_function\u001b[1;34m(self)\u001b[0m\n\u001b[0;32m    482\u001b[0m     \u001b[1;32mdef\u001b[0m \u001b[0m_make_train_function\u001b[0m\u001b[1;33m(\u001b[0m\u001b[0mself\u001b[0m\u001b[1;33m)\u001b[0m\u001b[1;33m:\u001b[0m\u001b[1;33m\u001b[0m\u001b[0m\n\u001b[0;32m    483\u001b[0m         \u001b[1;32mif\u001b[0m \u001b[1;32mnot\u001b[0m \u001b[0mhasattr\u001b[0m\u001b[1;33m(\u001b[0m\u001b[0mself\u001b[0m\u001b[1;33m,\u001b[0m \u001b[1;34m'train_function'\u001b[0m\u001b[1;33m)\u001b[0m\u001b[1;33m:\u001b[0m\u001b[1;33m\u001b[0m\u001b[0m\n\u001b[1;32m--> 484\u001b[1;33m             \u001b[1;32mraise\u001b[0m \u001b[0mRuntimeError\u001b[0m\u001b[1;33m(\u001b[0m\u001b[1;34m'You must compile your model before using it.'\u001b[0m\u001b[1;33m)\u001b[0m\u001b[1;33m\u001b[0m\u001b[0m\n\u001b[0m\u001b[0;32m    485\u001b[0m         \u001b[0mself\u001b[0m\u001b[1;33m.\u001b[0m\u001b[0m_check_trainable_weights_consistency\u001b[0m\u001b[1;33m(\u001b[0m\u001b[1;33m)\u001b[0m\u001b[1;33m\u001b[0m\u001b[0m\n\u001b[0;32m    486\u001b[0m         \u001b[1;32mif\u001b[0m \u001b[0mself\u001b[0m\u001b[1;33m.\u001b[0m\u001b[0mtrain_function\u001b[0m \u001b[1;32mis\u001b[0m \u001b[1;32mNone\u001b[0m\u001b[1;33m:\u001b[0m\u001b[1;33m\u001b[0m\u001b[0m\n",
      "\u001b[1;31mRuntimeError\u001b[0m: You must compile your model before using it."
     ]
    }
   ],
   "source": [
    "datagen = image.ImageDataGenerator(featurewise_center=False,\n",
    "                                   samplewise_center=False,\n",
    "                                   featurewise_std_normalization=False,\n",
    "                                   samplewise_std_normalization=False,\n",
    "                                   zca_whitening=False,\n",
    "                                   rotation_range=0.3,\n",
    "                                   width_shift_range=0.2,\n",
    "                                   height_shift_range=0.2,\n",
    "                                   shear_range=0.,\n",
    "                                   zoom_range=0.2,\n",
    "                                   channel_shift_range=0.,\n",
    "                                   fill_mode='nearest',\n",
    "                                   cval=0.0,\n",
    "                                   horizontal_flip=False,\n",
    "                                   vertical_flip=False,\n",
    "                                   rescale=1. / 255,\n",
    "                                   preprocessing_function=None,\n",
    "                                   # data_format=K.image_data_format(),\n",
    "                                   )\n",
    "\n",
    "train_generator = datagen.flow_from_directory(\n",
    "    r'F:\\number_ok1',  # this is the target directory\n",
    "    target_size=(48, 48),  # all images will be resized to 48*40\n",
    "    batch_size=256,\n",
    "    class_mode='categorical',\n",
    "    color_mode='grayscale')\n",
    "\n",
    "validation_generator = datagen.flow_from_directory(\n",
    "    r'F:\\number_ok1',\n",
    "    target_size=(48, 48),\n",
    "    batch_size=128,\n",
    "    class_mode='categorical',\n",
    "    color_mode='grayscale')\n",
    "\n",
    "model = SimpleOCR(use_dp=True)\n",
    "print(model.layers)\n",
    "\n",
    "model.compile(loss='mean_squared_error', optimizer='adam', metrics=['accuracy'])\n",
    "# model.compile(loss='mean_squared_error', optimizer='adam', metrics=['accuracy'])\n",
    "print('\\n'.join([str(tmp) for tmp in model.layers]))\n",
    "print('model length: %s' % len(model.layers))\n",
    "\n",
    "early_stopping = EarlyStopping(monitor='val_loss', patience=30)\n",
    "model.fit_generator(\n",
    "    train_generator,\n",
    "    steps_per_epoch=512,\n",
    "    epochs=20,\n",
    "    validation_data=validation_generator,\n",
    "    nb_val_samples=100,\n",
    "    verbose=True,\n",
    "    callbacks=[early_stopping])\n",
    "\n",
    "model.save('cnn3_gen_1.5.h5')"
   ]
  },
  {
   "cell_type": "code",
   "execution_count": 60,
   "metadata": {},
   "outputs": [],
   "source": [
    "import cv2\n",
    "import sys\n",
    "import numpy as np\n",
    "import matplotlib.pyplot as plt\n",
    "% matplotlib inline\n",
    "import os"
   ]
  },
  {
   "cell_type": "code",
   "execution_count": 83,
   "metadata": {},
   "outputs": [],
   "source": [
    "irs = tf.InteractiveSession()"
   ]
  },
  {
   "cell_type": "code",
   "execution_count": 97,
   "metadata": {},
   "outputs": [],
   "source": [
    "width = 14\n",
    "height = 14\n",
    "feat_stride = 16\n",
    "shift_x = tf.range(width) * feat_stride  # width\n",
    "shift_y = tf.range(height) * feat_stride  # height\n",
    "shift_x, shift_y = tf.meshgrid(shift_x, shift_y)"
   ]
  },
  {
   "cell_type": "code",
   "execution_count": 99,
   "metadata": {},
   "outputs": [],
   "source": [
    "sx = tf.reshape(shift_x, shape=(-1,))\n",
    "sy = tf.reshape(shift_y, shape=(-1,))"
   ]
  },
  {
   "cell_type": "code",
   "execution_count": 111,
   "metadata": {},
   "outputs": [
    {
     "name": "stdout",
     "output_type": "stream",
     "text": [
      "(196, 4)\n",
      "196\n"
     ]
    },
    {
     "data": {
      "text/plain": [
       "(196, 1, 4)"
      ]
     },
     "execution_count": 111,
     "metadata": {},
     "output_type": "execute_result"
    }
   ],
   "source": [
    "shifts = tf.transpose(tf.stack([sx, sy, sx, sy]))\n",
    "print(shifts.eval().shape)\n",
    "\n",
    "K = tf.multiply(width, height)\n",
    "print(K.eval())\n",
    "\n",
    "shifts = tf.transpose(tf.reshape(shifts, shape=[1, K, 4]), perm=(1, 0, 2))\n",
    "shifts.eval().shape"
   ]
  },
  {
   "cell_type": "markdown",
   "metadata": {},
   "source": [
    "---"
   ]
  },
  {
   "cell_type": "code",
   "execution_count": 112,
   "metadata": {},
   "outputs": [],
   "source": [
    "base_size=16\n",
    "ratios=[0.5, 1, 2]\n",
    "scales=2 ** np.arange(3, 6)"
   ]
  },
  {
   "cell_type": "code",
   "execution_count": 114,
   "metadata": {},
   "outputs": [
    {
     "name": "stdout",
     "output_type": "stream",
     "text": [
      "[ 0  0 15 15]\n"
     ]
    }
   ],
   "source": [
    "base_anchor = np.array([1, 1, base_size, base_size]) - 1\n",
    "print(base_anchor)"
   ]
  },
  {
   "cell_type": "code",
   "execution_count": 147,
   "metadata": {},
   "outputs": [],
   "source": [
    "def _whctrs(anchor):\n",
    "    \"\"\"\n",
    "    Return width, height, x center, and y center for an anchor (window).\n",
    "    \"\"\"\n",
    "    w = anchor[2] - anchor[0] + 1\n",
    "    h = anchor[3] - anchor[1] + 1\n",
    "    x_ctr = anchor[0] + 0.5 * (w - 1)\n",
    "    y_ctr = anchor[1] + 0.5 * (h - 1)\n",
    "    print('w h xcenter ycenter', w, h, x_ctr, y_ctr)\n",
    "    return w, h, x_ctr, y_ctr\n",
    "\n",
    "def _mkanchors(ws, hs, x_ctr, y_ctr):\n",
    "    \"\"\"\n",
    "    Given a vector of widths (ws) and heights (hs) around a center\n",
    "    (x_ctr, y_ctr), output a set of anchors (windows).\n",
    "    \"\"\"\n",
    "\n",
    "    ws = ws[:, np.newaxis]\n",
    "    hs = hs[:, np.newaxis]\n",
    "    \n",
    "    anchors = np.hstack((x_ctr - 0.5 * (ws - 1),\n",
    "                       y_ctr - 0.5 * (hs - 1),\n",
    "                       x_ctr + 0.5 * (ws - 1),\n",
    "                       y_ctr + 0.5 * (hs - 1)))\n",
    "    return anchors\n",
    "\n",
    "def _ratio_enum(anchor, ratios):\n",
    "    \"\"\"\n",
    "    Enumerate a set of anchors for each aspect ratio wrt an anchor.\n",
    "    \"\"\"\n",
    "    print('origin anchor', anchor)\n",
    "    w, h, x_ctr, y_ctr = _whctrs(anchor)\n",
    "    size = w * h\n",
    "    print('size', size)\n",
    "    size_ratios = size / ratios\n",
    "    print('size_ratios', size_ratios)\n",
    "    ws = np.round(np.sqrt(size_ratios))\n",
    "    hs = np.round(ws * ratios)\n",
    "    print('ws', ws)\n",
    "    print('hs', hs)\n",
    "    \n",
    "    anchors = _mkanchors(ws, hs, x_ctr, y_ctr)\n",
    "    return anchors\n",
    "\n",
    "def _scale_enum(anchor, scales):\n",
    "    \"\"\"\n",
    "    Enumerate a set of anchors for each scale wrt an anchor.\n",
    "    \"\"\"\n",
    "    print('origin anchor', anchor)\n",
    "    w, h, x_ctr, y_ctr = _whctrs(anchor)\n",
    "    ws = w * scales\n",
    "    hs = h * scales\n",
    "    print('ws', ws)\n",
    "    print('hs', hs)\n",
    "    anchors = _mkanchors(ws, hs, x_ctr, y_ctr)\n",
    "    return anchors"
   ]
  },
  {
   "cell_type": "code",
   "execution_count": 148,
   "metadata": {},
   "outputs": [
    {
     "name": "stdout",
     "output_type": "stream",
     "text": [
      "origin anchor [ 0  0 15 15]\n",
      "w h xcenter ycenter 16 16 7.5 7.5\n",
      "size 256\n",
      "size_ratios [512. 256. 128.]\n",
      "ws [23. 16. 11.]\n",
      "hs [12. 16. 22.]\n",
      "[[-3.5  2.  18.5 13. ]\n",
      " [ 0.   0.  15.  15. ]\n",
      " [ 2.5 -3.  12.5 18. ]]\n"
     ]
    }
   ],
   "source": [
    "ratio_anchors = _ratio_enum(base_anchor, ratios)\n",
    "print(ratio_anchors)"
   ]
  },
  {
   "cell_type": "code",
   "execution_count": 149,
   "metadata": {},
   "outputs": [
    {
     "data": {
      "text/plain": [
       "array([ 8, 16, 32], dtype=int32)"
      ]
     },
     "execution_count": 149,
     "metadata": {},
     "output_type": "execute_result"
    }
   ],
   "source": [
    "scales"
   ]
  },
  {
   "cell_type": "code",
   "execution_count": 150,
   "metadata": {},
   "outputs": [
    {
     "name": "stdout",
     "output_type": "stream",
     "text": [
      "origin anchor [-3.5  2.  18.5 13. ]\n",
      "w h xcenter ycenter 23.0 12.0 7.5 7.5\n",
      "ws [184. 368. 736.]\n",
      "hs [ 96. 192. 384.]\n"
     ]
    },
    {
     "data": {
      "text/plain": [
       "array([[ -84.,  -40.,   99.,   55.],\n",
       "       [-176.,  -88.,  191.,  103.],\n",
       "       [-360., -184.,  375.,  199.]])"
      ]
     },
     "execution_count": 150,
     "metadata": {},
     "output_type": "execute_result"
    }
   ],
   "source": [
    "_scale_enum(ratio_anchors[0, :], scales)"
   ]
  },
  {
   "cell_type": "code",
   "execution_count": 154,
   "metadata": {},
   "outputs": [
    {
     "name": "stdout",
     "output_type": "stream",
     "text": [
      "origin anchor [-3.5  2.  18.5 13. ]\n",
      "w h xcenter ycenter 23.0 12.0 7.5 7.5\n",
      "ws [184. 368. 736.]\n",
      "hs [ 96. 192. 384.]\n",
      "origin anchor [ 0.  0. 15. 15.]\n",
      "w h xcenter ycenter 16.0 16.0 7.5 7.5\n",
      "ws [128. 256. 512.]\n",
      "hs [128. 256. 512.]\n",
      "origin anchor [ 2.5 -3.  12.5 18. ]\n",
      "w h xcenter ycenter 11.0 22.0 7.5 7.5\n",
      "ws [ 88. 176. 352.]\n",
      "hs [176. 352. 704.]\n"
     ]
    }
   ],
   "source": [
    "anchors = np.vstack([_scale_enum(ratio_anchors[i, :], scales) for i in range(ratio_anchors.shape[0])])"
   ]
  },
  {
   "cell_type": "code",
   "execution_count": 152,
   "metadata": {},
   "outputs": [
    {
     "data": {
      "text/plain": [
       "TensorShape([Dimension(196), Dimension(1), Dimension(4)])"
      ]
     },
     "execution_count": 152,
     "metadata": {},
     "output_type": "execute_result"
    }
   ],
   "source": [
    "shifts.shape"
   ]
  },
  {
   "cell_type": "code",
   "execution_count": 155,
   "metadata": {},
   "outputs": [],
   "source": [
    "A = anchors.shape[0]\n",
    "anchor_constant = tf.constant(anchors.reshape((1, A, 4)), dtype=tf.int32)"
   ]
  },
  {
   "cell_type": "code",
   "execution_count": 156,
   "metadata": {},
   "outputs": [
    {
     "data": {
      "text/plain": [
       "TensorShape([Dimension(1), Dimension(9), Dimension(4)])"
      ]
     },
     "execution_count": 156,
     "metadata": {},
     "output_type": "execute_result"
    }
   ],
   "source": [
    "anchor_constant.shape"
   ]
  },
  {
   "cell_type": "code",
   "execution_count": 161,
   "metadata": {},
   "outputs": [
    {
     "data": {
      "text/plain": [
       "(1764, 4)"
      ]
     },
     "execution_count": 161,
     "metadata": {},
     "output_type": "execute_result"
    }
   ],
   "source": [
    "length = K * A\n",
    "anchors_tf = tf.reshape(tf.add(anchor_constant, shifts), shape=(length, 4))\n",
    "anchors_tf.eval().shape"
   ]
  },
  {
   "cell_type": "code",
   "execution_count": 170,
   "metadata": {},
   "outputs": [
    {
     "data": {
      "text/plain": [
       "1"
      ]
     },
     "execution_count": 170,
     "metadata": {},
     "output_type": "execute_result"
    }
   ],
   "source": [
    "tf.concat(axis=0, values=[[1, 2, -1], [14]])[0].eval()"
   ]
  },
  {
   "cell_type": "code",
   "execution_count": 166,
   "metadata": {},
   "outputs": [
    {
     "data": {
      "text/plain": [
       "array([[ -84.,  -40.,   99.,   55.],\n",
       "       [-176.,  -88.,  191.,  103.],\n",
       "       [-360., -184.,  375.,  199.],\n",
       "       [ -56.,  -56.,   71.,   71.],\n",
       "       [-120., -120.,  135.,  135.],\n",
       "       [-248., -248.,  263.,  263.],\n",
       "       [ -36.,  -80.,   51.,   95.],\n",
       "       [ -80., -168.,   95.,  183.],\n",
       "       [-168., -344.,  183.,  359.]])"
      ]
     },
     "execution_count": 166,
     "metadata": {},
     "output_type": "execute_result"
    }
   ],
   "source": [
    "anchors"
   ]
  },
  {
   "cell_type": "code",
   "execution_count": 172,
   "metadata": {},
   "outputs": [
    {
     "data": {
      "text/plain": [
       "array([ -84.,  -40.,   99.,   55., -176.,  -88.,  191.,  103., -360.,\n",
       "       -184.,  375.,  199.,  -56.,  -56.,   71.,   71., -120., -120.,\n",
       "        135.,  135., -248., -248.,  263.,  263.,  -36.,  -80.,   51.,\n",
       "         95.,  -80., -168.,   95.,  183., -168., -344.,  183.,  359.])"
      ]
     },
     "execution_count": 172,
     "metadata": {},
     "output_type": "execute_result"
    }
   ],
   "source": [
    "anchors.ravel()"
   ]
  },
  {
   "cell_type": "code",
   "execution_count": 173,
   "metadata": {},
   "outputs": [
    {
     "data": {
      "text/plain": [
       "array([ 8, 33, 21, 20,  9,  4, 32, 29, 17, 16,  5,  0, 28, 25, 12, 13,  1,\n",
       "       24, 26,  3, 14, 15, 30, 27,  2,  7, 18, 19, 31, 34,  6, 11, 23, 22,\n",
       "       35, 10], dtype=int64)"
      ]
     },
     "execution_count": 173,
     "metadata": {},
     "output_type": "execute_result"
    }
   ],
   "source": [
    "anchors.ravel().argsort()"
   ]
  },
  {
   "cell_type": "code",
   "execution_count": 174,
   "metadata": {},
   "outputs": [
    {
     "data": {
      "text/plain": [
       "array([10, 35, 22, 23, 11,  6, 34, 31, 19, 18,  7,  2, 27, 30, 15, 14,  3,\n",
       "       26, 24,  1, 13, 12, 25, 28,  0,  5, 16, 17, 29, 32,  4,  9, 20, 21,\n",
       "       33,  8], dtype=int64)"
      ]
     },
     "execution_count": 174,
     "metadata": {},
     "output_type": "execute_result"
    }
   ],
   "source": [
    "anchors.ravel().argsort()[::-1]"
   ]
  },
  {
   "cell_type": "code",
   "execution_count": null,
   "metadata": {},
   "outputs": [],
   "source": [
    "anchors.ravel()[:, np.newaxis]"
   ]
  },
  {
   "cell_type": "markdown",
   "metadata": {},
   "source": [
    "---"
   ]
  },
  {
   "cell_type": "code",
   "execution_count": 2,
   "metadata": {},
   "outputs": [],
   "source": [
    "from keras import backend as K"
   ]
  },
  {
   "cell_type": "code",
   "execution_count": 408,
   "metadata": {},
   "outputs": [
    {
     "data": {
      "text/plain": [
       "[array([[[11.111112, 11.111112, 11.111112,  0.      , 11.111112,\n",
       "          11.111112, 11.111112, 11.111112, 11.111112, 11.111112]]],\n",
       "       dtype=float32)]"
      ]
     },
     "execution_count": 408,
     "metadata": {},
     "output_type": "execute_result"
    }
   ],
   "source": [
    "x = Input((1, 10))\n",
    "l = Dense(10)(x)\n",
    "# l_ = Dense(10)(l)\n",
    "ll = Dropout(0.1)(l)\n",
    "model = Model(x, ll)\n",
    "\n",
    "model.layers[1].set_weights((np.ones([10,10]), np.zeros([10])))\n",
    "\n",
    "layer = K.function([model.layers[1].input, K.learning_phase()], [model.layers[2].output])\n",
    "\n",
    "# output in test mode = 0\n",
    "layer_output = layer([np.ones((1, 1, 10)), 1])\n",
    "layer_output"
   ]
  },
  {
   "cell_type": "code",
   "execution_count": 409,
   "metadata": {},
   "outputs": [
    {
     "data": {
      "text/plain": [
       "11.11111111111111"
      ]
     },
     "execution_count": 409,
     "metadata": {},
     "output_type": "execute_result"
    }
   ],
   "source": [
    "10 / 0.9"
   ]
  },
  {
   "cell_type": "code",
   "execution_count": 364,
   "metadata": {},
   "outputs": [
    {
     "data": {
      "text/plain": [
       "array([[[11., 11., 11., 11., 11., 11., 11., 11., 11., 11.]]])"
      ]
     },
     "execution_count": 364,
     "metadata": {},
     "output_type": "execute_result"
    }
   ],
   "source": [
    "np.dot(np.ones((1, 1, 10)), model.layers[1].get_weights()[0]) + model.layers[1].get_weights()[1]"
   ]
  },
  {
   "cell_type": "code",
   "execution_count": 386,
   "metadata": {},
   "outputs": [],
   "source": [
    "model.layers[1].set_weights((np.ones([10,10]), np.zeros([10])))"
   ]
  },
  {
   "cell_type": "code",
   "execution_count": 395,
   "metadata": {},
   "outputs": [
    {
     "data": {
      "text/plain": [
       "[array([[1., 1., 1., 1., 1., 1., 1., 1., 1., 1.],\n",
       "        [1., 1., 1., 1., 1., 1., 1., 1., 1., 1.],\n",
       "        [1., 1., 1., 1., 1., 1., 1., 1., 1., 1.],\n",
       "        [1., 1., 1., 1., 1., 1., 1., 1., 1., 1.],\n",
       "        [1., 1., 1., 1., 1., 1., 1., 1., 1., 1.],\n",
       "        [1., 1., 1., 1., 1., 1., 1., 1., 1., 1.],\n",
       "        [1., 1., 1., 1., 1., 1., 1., 1., 1., 1.],\n",
       "        [1., 1., 1., 1., 1., 1., 1., 1., 1., 1.],\n",
       "        [1., 1., 1., 1., 1., 1., 1., 1., 1., 1.],\n",
       "        [1., 1., 1., 1., 1., 1., 1., 1., 1., 1.]], dtype=float32),\n",
       " array([0., 0., 0., 0., 0., 0., 0., 0., 0., 0.], dtype=float32)]"
      ]
     },
     "execution_count": 395,
     "metadata": {},
     "output_type": "execute_result"
    }
   ],
   "source": [
    "model.layers[1].get_weights()"
   ]
  },
  {
   "cell_type": "code",
   "execution_count": null,
   "metadata": {},
   "outputs": [],
   "source": []
  }
 ],
 "metadata": {
  "kernelspec": {
   "display_name": "Python 3",
   "language": "python",
   "name": "python3"
  },
  "language_info": {
   "codemirror_mode": {
    "name": "ipython",
    "version": 3
   },
   "file_extension": ".py",
   "mimetype": "text/x-python",
   "name": "python",
   "nbconvert_exporter": "python",
   "pygments_lexer": "ipython3",
   "version": "3.6.4"
  }
 },
 "nbformat": 4,
 "nbformat_minor": 2
}
